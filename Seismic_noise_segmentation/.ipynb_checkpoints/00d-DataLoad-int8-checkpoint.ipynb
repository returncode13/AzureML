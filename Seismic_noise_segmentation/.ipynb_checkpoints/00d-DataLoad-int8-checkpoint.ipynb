{
 "cells": [
  {
   "cell_type": "markdown",
   "metadata": {},
   "source": [
    "Use with **jp2_data_load** kernel\n",
    "\n",
    "References:  \n",
    "https://stackoverflow.com/questions/26681756/how-to-convert-a-python-numpy-array-to-an-rgb-image-with-opencv-2-4"
   ]
  },
  {
   "cell_type": "code",
   "execution_count": 1,
   "metadata": {},
   "outputs": [],
   "source": [
    "import glymur\n",
    "import os\n",
    "import glob\n",
    "import numpy as np\n",
    "import matplotlib.pyplot as plt"
   ]
  },
  {
   "cell_type": "code",
   "execution_count": 2,
   "metadata": {},
   "outputs": [],
   "source": [
    "import pandas as pd"
   ]
  },
  {
   "cell_type": "code",
   "execution_count": 3,
   "metadata": {},
   "outputs": [
    {
     "name": "stdout",
     "output_type": "stream",
     "text": [
      "/mnt/batch/tasks/shared/LS_root/mounts/clusters/sn-lab-d13/code/users/supanaesw/Seismic_noise_segmentation/data/*1003.jp2\n"
     ]
    },
    {
     "data": {
      "text/plain": [
       "['/mnt/batch/tasks/shared/LS_root/mounts/clusters/sn-lab-d13/code/users/supanaesw/Seismic_noise_segmentation/data/STP10-D1774P1003.jp2/00001022.10.jp2']"
      ]
     },
     "execution_count": 3,
     "metadata": {},
     "output_type": "execute_result"
    }
   ],
   "source": [
    "data=os.path.join(os.getcwd()+\"/data\")\n",
    "seq_3=os.path.join(data+'/*1003.jp2')\n",
    "print(seq_3)\n",
    "#print(glob.glob(seq_3+\"/*.jp2\")[0:100])\n",
    "files=glob.glob(seq_3+\"/*.jp2\")[500:501]\n",
    "files"
   ]
  },
  {
   "cell_type": "code",
   "execution_count": 6,
   "metadata": {},
   "outputs": [
    {
     "name": "stdout",
     "output_type": "stream",
     "text": [
      "uint16\n"
     ]
    }
   ],
   "source": [
    "save_location=glob.glob(os.path.join(data+'/*1003.npy'))[0]\n",
    "for f in files:\n",
    "    fjp2=glymur.Jp2k(f)\n",
    "    fname=f.split(\"/\")[-1].split(\".\")[:2]\n",
    "    p=\"\"+fname[0]+\".\"+fname[1]+\"_int8.npy\"\n",
    "    \n",
    "    nmp_f=fjp2[:]\n",
    "    nmp_f=nmp_f.T\n",
    "    print(nmp_f.dtype)\n",
    "#     nf_name=save_location+\"/\"+p\n",
    "#     print(\"saving \"+f.split(\"/\")[-1]+\" to \"+p)\n",
    "#     nmp_f.dump(nf_name)\n",
    "\n",
    "\n",
    "# plt.imshow(nmp_f.T,cmap=\"Greys\",aspect=\"auto\")\n",
    "# plt.tight_layout()\n",
    "# plt.show()\n",
    "\n",
    "# plt.imshow(data.T,cmap=\"Greys\",aspect=\"auto\")\n",
    "# plt.tight_layout()\n",
    "# plt.show()"
   ]
  },
  {
   "cell_type": "code",
   "execution_count": 26,
   "metadata": {},
   "outputs": [
    {
     "data": {
      "text/plain": [
       "iinfo(min=0, max=65535, dtype=uint16)"
      ]
     },
     "execution_count": 26,
     "metadata": {},
     "output_type": "execute_result"
    }
   ],
   "source": [
    "info"
   ]
  },
  {
   "cell_type": "code",
   "execution_count": 27,
   "metadata": {},
   "outputs": [
    {
     "data": {
      "text/plain": [
       "array([[50176, 49280, 48384, ..., 26112, 26624, 27136],\n",
       "       [43328, 42992, 42656, ..., 25568, 25952, 26336],\n",
       "       [36480, 36704, 36928, ..., 28096, 28352, 28608],\n",
       "       ...,\n",
       "       [33152, 33152, 33152, ..., 31872, 31872, 31872],\n",
       "       [32384, 32384, 32384, ..., 28928, 28928, 28928],\n",
       "       [32384, 32384, 32384, ..., 32000, 32000, 32000]], dtype=uint16)"
      ]
     },
     "execution_count": 27,
     "metadata": {},
     "output_type": "execute_result"
    }
   ],
   "source": [
    "data"
   ]
  },
  {
   "cell_type": "code",
   "execution_count": 30,
   "metadata": {},
   "outputs": [],
   "source": [
    "data_norm=data.astype(np.float64)/info.max"
   ]
  },
  {
   "cell_type": "code",
   "execution_count": 32,
   "metadata": {},
   "outputs": [
    {
     "data": {
      "text/plain": [
       "array([[195.23735409, 191.75097276, 188.26459144, ..., 101.60311284,\n",
       "        103.59533074, 105.58754864],\n",
       "       [168.59143969, 167.28404669, 165.9766537 , ...,  99.48638132,\n",
       "        100.98054475, 102.47470817],\n",
       "       [141.94552529, 142.81712062, 143.68871595, ..., 109.3229572 ,\n",
       "        110.31906615, 111.3151751 ],\n",
       "       ...,\n",
       "       [128.99610895, 128.99610895, 128.99610895, ..., 124.0155642 ,\n",
       "        124.0155642 , 124.0155642 ],\n",
       "       [126.0077821 , 126.0077821 , 126.0077821 , ..., 112.56031128,\n",
       "        112.56031128, 112.56031128],\n",
       "       [126.0077821 , 126.0077821 , 126.0077821 , ..., 124.51361868,\n",
       "        124.51361868, 124.51361868]])"
      ]
     },
     "execution_count": 32,
     "metadata": {},
     "output_type": "execute_result"
    }
   ],
   "source": [
    "data_scaled=data_norm*255\n",
    "data_scaled"
   ]
  },
  {
   "cell_type": "code",
   "execution_count": 34,
   "metadata": {
    "collapsed": true,
    "jupyter": {
     "outputs_hidden": true
    }
   },
   "outputs": [
    {
     "data": {
      "text/plain": [
       "array([[195, 191, 188, ..., 101, 103, 105],\n",
       "       [168, 167, 165, ...,  99, 100, 102],\n",
       "       [141, 142, 143, ..., 109, 110, 111],\n",
       "       ...,\n",
       "       [128, 128, 128, ..., 124, 124, 124],\n",
       "       [126, 126, 126, ..., 112, 112, 112],\n",
       "       [126, 126, 126, ..., 124, 124, 124]], dtype=uint8)"
      ]
     },
     "execution_count": 34,
     "metadata": {},
     "output_type": "execute_result"
    }
   ],
   "source": [
    "data_uint8=data_scaled.astype(np.uint8)\n",
    "data_uint8"
   ]
  },
  {
   "cell_type": "code",
   "execution_count": 10,
   "metadata": {
    "collapsed": true,
    "jupyter": {
     "outputs_hidden": true
    }
   },
   "outputs": [
    {
     "name": "stdout",
     "output_type": "stream",
     "text": [
      "[[0.76563668 0.7519646  0.73829252 ... 0.39844358 0.4062562  0.41406882]\n",
      " [0.6611429  0.65601587 0.65088884 ... 0.39014267 0.39600214 0.4018616 ]\n",
      " [0.55664912 0.56006714 0.56348516 ... 0.42871748 0.43262379 0.4365301 ]\n",
      " ...\n",
      " [0.50586709 0.50586709 0.50586709 ... 0.48633555 0.48633555 0.48633555]\n",
      " [0.49414817 0.49414817 0.49414817 ... 0.44141299 0.44141299 0.44141299]\n",
      " [0.49414817 0.49414817 0.49414817 ... 0.4882887  0.4882887  0.4882887 ]]\n",
      "\n",
      "[[195.23735409 191.75097276 188.26459144 ... 101.60311284 103.59533074\n",
      "  105.58754864]\n",
      " [168.59143969 167.28404669 165.9766537  ...  99.48638132 100.98054475\n",
      "  102.47470817]\n",
      " [141.94552529 142.81712062 143.68871595 ... 109.3229572  110.31906615\n",
      "  111.3151751 ]\n",
      " ...\n",
      " [128.99610895 128.99610895 128.99610895 ... 124.0155642  124.0155642\n",
      "  124.0155642 ]\n",
      " [126.0077821  126.0077821  126.0077821  ... 112.56031128 112.56031128\n",
      "  112.56031128]\n",
      " [126.0077821  126.0077821  126.0077821  ... 124.51361868 124.51361868\n",
      "  124.51361868]]\n"
     ]
    }
   ],
   "source": [
    "data=data.astype(np.float64)/info.max \n",
    "print(data)\n",
    "data=data*255\n",
    "print()\n",
    "print(data)\n"
   ]
  },
  {
   "cell_type": "code",
   "execution_count": 11,
   "metadata": {},
   "outputs": [],
   "source": [
    "img=data.astype(np.uint16)"
   ]
  },
  {
   "cell_type": "code",
   "execution_count": 17,
   "metadata": {},
   "outputs": [],
   "source": [
    "\n",
    "img.dump(os.getcwd()+\"/uint16.npy\")"
   ]
  },
  {
   "cell_type": "code",
   "execution_count": 25,
   "metadata": {},
   "outputs": [],
   "source": [
    "fjp2=glymur.Jp2k(files[0])\n",
    "data=fjp2[:]\n",
    "info=np.iinfo(data.dtype)"
   ]
  },
  {
   "cell_type": "code",
   "execution_count": 39,
   "metadata": {},
   "outputs": [],
   "source": [
    "uint8_path=os.getcwd()+\"/shot_uint8.npy\"\n",
    "uint16_path=os.getcwd()+\"/shot_uint16.npy\"\n",
    "float64_path=os.getcwd()+\"/shot_float64.npy\"\n",
    "\n",
    "orig,norm,scaled,formated=save_in_format(data,np.uint8,uint8_path)\n",
    "\n",
    "combined=np.array([orig.reshape(-1),norm.reshape(-1),scaled.reshape(-1),formated.reshape(-1)])\n",
    "\n",
    "combined=combined.T\n",
    "combined.shape\n",
    "\n",
    "df=pd.DataFrame(combined,columns=[\"orig\",\"norm\",\"scaled\",\"formated\"])\n",
    "df.hist()"
   ]
  },
  {
   "cell_type": "code",
   "execution_count": null,
   "metadata": {},
   "outputs": [],
   "source": []
  }
 ],
 "metadata": {
  "kernelspec": {
   "display_name": "jp2_data_load",
   "language": "python",
   "name": "jp2_data_load"
  },
  "language_info": {
   "codemirror_mode": {
    "name": "ipython",
    "version": 3
   },
   "file_extension": ".py",
   "mimetype": "text/x-python",
   "name": "python",
   "nbconvert_exporter": "python",
   "pygments_lexer": "ipython3",
   "version": "3.6.10"
  }
 },
 "nbformat": 4,
 "nbformat_minor": 4
}
