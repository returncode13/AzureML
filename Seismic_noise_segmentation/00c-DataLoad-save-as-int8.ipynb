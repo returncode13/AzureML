{
 "cells": [
  {
   "cell_type": "code",
   "execution_count": null,
   "metadata": {},
   "outputs": [],
   "source": [
    "import glymur\n",
    "import os\n",
    "import glob\n",
    "import numpy as np\n",
    "import matplotlib.pyplot as plt"
   ]
  },
  {
   "cell_type": "code",
   "execution_count": 2,
   "metadata": {},
   "outputs": [
    {
     "name": "stdout",
     "output_type": "stream",
     "text": [
      "/mnt/batch/tasks/shared/LS_root/mounts/clusters/sn-lab-d13/code/users/supanaesw/Seismic_noise_segmentation/data/*1003.jp2\n"
     ]
    },
    {
     "data": {
      "text/plain": [
       "['/mnt/batch/tasks/shared/LS_root/mounts/clusters/sn-lab-d13/code/users/supanaesw/Seismic_noise_segmentation/data/STP10-D1774P1003.jp2/00001022.10.jp2']"
      ]
     },
     "execution_count": 2,
     "metadata": {},
     "output_type": "execute_result"
    }
   ],
   "source": [
    "data=os.path.join(os.getcwd()+\"/data\")\n",
    "seq_3=os.path.join(data+'/*1003.jp2')\n",
    "print(seq_3)\n",
    "#print(glob.glob(seq_3+\"/*.jp2\")[0:100])\n",
    "files=glob.glob(seq_3+\"/*.jp2\")[500:501]\n",
    "files"
   ]
  },
  {
   "cell_type": "code",
   "execution_count": null,
   "metadata": {},
   "outputs": [],
   "source": []
  }
 ],
 "metadata": {
  "kernelspec": {
   "display_name": "jp2-load-glymur",
   "language": "python",
   "name": "jp2-load-glymur"
  },
  "language_info": {
   "codemirror_mode": {
    "name": "ipython",
    "version": 3
   },
   "file_extension": ".py",
   "mimetype": "text/x-python",
   "name": "python",
   "nbconvert_exporter": "python",
   "pygments_lexer": "ipython3",
   "version": "3.6.10"
  }
 },
 "nbformat": 4,
 "nbformat_minor": 2
}
