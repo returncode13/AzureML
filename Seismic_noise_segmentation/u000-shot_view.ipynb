{
 "cells": [
  {
   "cell_type": "code",
   "execution_count": 1,
   "metadata": {},
   "outputs": [],
   "source": [
    "import obspy\n",
    "import os\n",
    "import glob\n",
    "import numpy as np\n",
    "import matplotlib.pyplot as plt\n",
    "import xarray as xr\n",
    "import hvplot.xarray\n",
    "import holoviews as hv\n",
    "from holoviews.operation.datashader import datashade, rasterize\n",
    "from holoviews import opts\n",
    "from holoviews.operation.datashader import dynspread\n",
    "\n",
    "hv.extension('bokeh')\n",
    "hv.output(backend='bokeh')\n",
    "\n",
    "def shot_display(data=None,time=None,channels=None):\n",
    "    #Create xrray dataset\n",
    "    xarr=xr.Dataset(\n",
    "        {\n",
    "            'amplitudes':(('time','channels'),data)\n",
    "        },\n",
    "        {\n",
    "            \"time\":time,\"channels\":channels,\n",
    "        }\n",
    "    )\n",
    "    \n",
    "    #create an holoviews Dataset\n",
    "    hvds=hv.Dataset(xarr)\n",
    "    \n",
    "    #create a holoviews Image element\n",
    "    hvimage=hv.Image(hvds)\n",
    "    hvimage.opts(opts.Image(invert_yaxis=True,cmap='gray',height=1000,width=1000))\n",
    "    \n",
    "    \n",
    "    "
   ]
  },
  {
   "cell_type": "code",
   "execution_count": null,
   "metadata": {},
   "outputs": [],
   "source": []
  }
 ],
 "metadata": {
  "kernelspec": {
   "display_name": "data_processing",
   "language": "python",
   "name": "data_processing"
  },
  "language_info": {
   "codemirror_mode": {
    "name": "ipython",
    "version": 3
   },
   "file_extension": ".py",
   "mimetype": "text/x-python",
   "name": "python",
   "nbconvert_exporter": "python",
   "pygments_lexer": "ipython3",
   "version": "3.6.10"
  }
 },
 "nbformat": 4,
 "nbformat_minor": 4
}
