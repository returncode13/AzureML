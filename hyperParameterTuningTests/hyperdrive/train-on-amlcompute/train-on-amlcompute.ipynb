{
 "cells": [
  {
   "cell_type": "markdown",
   "metadata": {},
   "source": [
    "Copyright (c) Microsoft Corporation. All rights reserved.\n",
    "\n",
    "Licensed under the MIT License."
   ]
  },
  {
   "cell_type": "markdown",
   "metadata": {},
   "source": [
    "![Impressions](https://PixelServer20190423114238.azurewebsites.net/api/impressions/NotebookVM/how-to-use-azureml/training/train-on-amlcompute/train-on-amlcompute.png)"
   ]
  },
  {
   "cell_type": "markdown",
   "metadata": {},
   "source": [
    "#  Train using Azure Machine Learning Compute\n",
    "\n",
    "* Initialize a Workspace\n",
    "* Create an Experiment\n",
    "* Introduction to AmlCompute\n",
    "* Submit an AmlCompute run in a few different ways\n",
    "    - Provision as a run based compute target \n",
    "    - Provision as a persistent compute target (Basic)\n",
    "    - Provision as a persistent compute target (Advanced)\n",
    "* Additional operations to perform on AmlCompute\n",
    "* Find the best model in the run"
   ]
  },
  {
   "cell_type": "markdown",
   "metadata": {},
   "source": [
    "## Prerequisites\n",
    "If you are using an Azure Machine Learning Notebook VM, you are all set.  Otherwise, go through the [configuration](../../../configuration.ipynb) Notebook first if you haven't already to establish your connection to the AzureML Workspace."
   ]
  },
  {
   "cell_type": "code",
   "execution_count": 1,
   "metadata": {},
   "outputs": [
    {
     "name": "stdout",
     "output_type": "stream",
     "text": [
      "SDK version: 1.0.85\n"
     ]
    }
   ],
   "source": [
    "# Check core SDK version number\n",
    "import azureml.core\n",
    "\n",
    "print(\"SDK version:\", azureml.core.VERSION)"
   ]
  },
  {
   "cell_type": "markdown",
   "metadata": {},
   "source": [
    "## Initialize a Workspace\n",
    "\n",
    "Initialize a workspace object from persisted configuration"
   ]
  },
  {
   "cell_type": "code",
   "execution_count": 2,
   "metadata": {
    "tags": [
     "create workspace"
    ]
   },
   "outputs": [
    {
     "name": "stdout",
     "output_type": "stream",
     "text": [
      "cirrustest2\n",
      "awe-cirrus-rg\n",
      "southcentralus\n",
      "c1d0a0ea-bf6e-4c1c-8b55-f1bdb0208df8\n"
     ]
    }
   ],
   "source": [
    "from azureml.core import Workspace\n",
    "\n",
    "ws = Workspace.from_config()\n",
    "print(ws.name, ws.resource_group, ws.location, ws.subscription_id, sep = '\\n')"
   ]
  },
  {
   "cell_type": "markdown",
   "metadata": {},
   "source": [
    "## Create An Experiment\n",
    "\n",
    "**Experiment** is a logical container in an Azure ML Workspace. It hosts run records which can include run metrics and output artifacts from your experiments."
   ]
  },
  {
   "cell_type": "code",
   "execution_count": 3,
   "metadata": {},
   "outputs": [],
   "source": [
    "from azureml.core import Experiment\n",
    "experiment_name = 'train-on-amlcompute-01'\n",
    "experiment = Experiment(workspace = ws, name = experiment_name)"
   ]
  },
  {
   "cell_type": "markdown",
   "metadata": {},
   "source": [
    "## Introduction to AmlCompute\n",
    "\n",
    "**Azure Machine Learning Compute is managed compute infrastructure that allows the user to easily create single to multi-node compute of the appropriate VM Family**. It is created **within your workspace region** and is a resource that can be used by other users in your workspace. It autoscales by default to the max_nodes, when a job is submitted, and executes in a containerized environment packaging the dependencies as specified by the user. \n",
    "\n",
    "Since it is managed compute, job scheduling and cluster management are handled internally by Azure Machine Learning service. \n",
    "\n",
    "For more information on Azure Machine Learning Compute, please read [this article](https://docs.microsoft.com/azure/machine-learning/service/how-to-set-up-training-targets#amlcompute)\n",
    "\n",
    "If you are an existing BatchAI customer who is migrating to Azure Machine Learning, please read [this article](https://aka.ms/batchai-retirement)\n",
    "\n",
    "**Note**: As with other Azure services, there are limits on certain resources (for eg. AmlCompute quota) associated with the Azure Machine Learning service. Please read [this article](https://docs.microsoft.com/azure/machine-learning/service/how-to-manage-quotas) on the default limits and how to request more quota.\n",
    "\n",
    "\n",
    "The training script `train.py` is already created for you. Let's have a look."
   ]
  },
  {
   "cell_type": "markdown",
   "metadata": {},
   "source": [
    "## Submit an AmlCompute run in a few different ways\n",
    "\n",
    "First lets check which VM families are available in your region. Azure is a regional service and some specialized SKUs (especially GPUs) are only available in certain regions. Since AmlCompute is created in the region of your workspace, we will use the supported_vms () function to see if the VM family we want to use ('STANDARD_D2_V2') is supported.\n",
    "\n",
    "You can also pass a different region to check availability and then re-create your workspace in that region through the [configuration notebook](../../../configuration.ipynb)"
   ]
  },
  {
   "cell_type": "code",
   "execution_count": 4,
   "metadata": {
    "collapsed": true,
    "jupyter": {
     "outputs_hidden": true
    }
   },
   "outputs": [
    {
     "data": {
      "text/plain": [
       "[{'name': 'Standard_D1_v2',\n",
       "  'vCPUs': 1,\n",
       "  'gpus': 0,\n",
       "  'memoryGB': 3.5,\n",
       "  'maxResourceVolumeMB': 51200},\n",
       " {'name': 'Standard_D2_v2',\n",
       "  'vCPUs': 2,\n",
       "  'gpus': 0,\n",
       "  'memoryGB': 7.0,\n",
       "  'maxResourceVolumeMB': 102400},\n",
       " {'name': 'Standard_D3_v2',\n",
       "  'vCPUs': 4,\n",
       "  'gpus': 0,\n",
       "  'memoryGB': 14.0,\n",
       "  'maxResourceVolumeMB': 204800},\n",
       " {'name': 'Standard_D4_v2',\n",
       "  'vCPUs': 8,\n",
       "  'gpus': 0,\n",
       "  'memoryGB': 28.0,\n",
       "  'maxResourceVolumeMB': 409600},\n",
       " {'name': 'Standard_D11_v2',\n",
       "  'vCPUs': 2,\n",
       "  'gpus': 0,\n",
       "  'memoryGB': 14.0,\n",
       "  'maxResourceVolumeMB': 102400},\n",
       " {'name': 'Standard_D12_v2',\n",
       "  'vCPUs': 4,\n",
       "  'gpus': 0,\n",
       "  'memoryGB': 28.0,\n",
       "  'maxResourceVolumeMB': 204800},\n",
       " {'name': 'Standard_D13_v2',\n",
       "  'vCPUs': 8,\n",
       "  'gpus': 0,\n",
       "  'memoryGB': 56.0,\n",
       "  'maxResourceVolumeMB': 409600},\n",
       " {'name': 'Standard_D14_v2',\n",
       "  'vCPUs': 16,\n",
       "  'gpus': 0,\n",
       "  'memoryGB': 112.0,\n",
       "  'maxResourceVolumeMB': 819200},\n",
       " {'name': 'Standard_DS1_v2',\n",
       "  'vCPUs': 1,\n",
       "  'gpus': 0,\n",
       "  'memoryGB': 3.5,\n",
       "  'maxResourceVolumeMB': 7168},\n",
       " {'name': 'Standard_DS2_v2',\n",
       "  'vCPUs': 2,\n",
       "  'gpus': 0,\n",
       "  'memoryGB': 7.0,\n",
       "  'maxResourceVolumeMB': 14336},\n",
       " {'name': 'Standard_DS3_v2',\n",
       "  'vCPUs': 4,\n",
       "  'gpus': 0,\n",
       "  'memoryGB': 14.0,\n",
       "  'maxResourceVolumeMB': 28672},\n",
       " {'name': 'Standard_DS4_v2',\n",
       "  'vCPUs': 8,\n",
       "  'gpus': 0,\n",
       "  'memoryGB': 28.0,\n",
       "  'maxResourceVolumeMB': 57344},\n",
       " {'name': 'Standard_DS5_v2',\n",
       "  'vCPUs': 16,\n",
       "  'gpus': 0,\n",
       "  'memoryGB': 56.0,\n",
       "  'maxResourceVolumeMB': 114688},\n",
       " {'name': 'Standard_DS11_v2',\n",
       "  'vCPUs': 2,\n",
       "  'gpus': 0,\n",
       "  'memoryGB': 14.0,\n",
       "  'maxResourceVolumeMB': 28672},\n",
       " {'name': 'Standard_DS12_v2',\n",
       "  'vCPUs': 4,\n",
       "  'gpus': 0,\n",
       "  'memoryGB': 28.0,\n",
       "  'maxResourceVolumeMB': 57344},\n",
       " {'name': 'Standard_DS13_v2',\n",
       "  'vCPUs': 8,\n",
       "  'gpus': 0,\n",
       "  'memoryGB': 56.0,\n",
       "  'maxResourceVolumeMB': 114688},\n",
       " {'name': 'Standard_DS14_v2',\n",
       "  'vCPUs': 16,\n",
       "  'gpus': 0,\n",
       "  'memoryGB': 112.0,\n",
       "  'maxResourceVolumeMB': 229376},\n",
       " {'name': 'Standard_DS15_v2',\n",
       "  'vCPUs': 20,\n",
       "  'gpus': 0,\n",
       "  'memoryGB': 140.0,\n",
       "  'maxResourceVolumeMB': 286720},\n",
       " {'name': 'Standard_D1',\n",
       "  'vCPUs': 1,\n",
       "  'gpus': 0,\n",
       "  'memoryGB': 3.5,\n",
       "  'maxResourceVolumeMB': 51200},\n",
       " {'name': 'Standard_D2',\n",
       "  'vCPUs': 2,\n",
       "  'gpus': 0,\n",
       "  'memoryGB': 7.0,\n",
       "  'maxResourceVolumeMB': 102400},\n",
       " {'name': 'Standard_D3',\n",
       "  'vCPUs': 4,\n",
       "  'gpus': 0,\n",
       "  'memoryGB': 14.0,\n",
       "  'maxResourceVolumeMB': 204800},\n",
       " {'name': 'Standard_D4',\n",
       "  'vCPUs': 8,\n",
       "  'gpus': 0,\n",
       "  'memoryGB': 28.0,\n",
       "  'maxResourceVolumeMB': 409600},\n",
       " {'name': 'Standard_D11',\n",
       "  'vCPUs': 2,\n",
       "  'gpus': 0,\n",
       "  'memoryGB': 14.0,\n",
       "  'maxResourceVolumeMB': 102400},\n",
       " {'name': 'Standard_D12',\n",
       "  'vCPUs': 4,\n",
       "  'gpus': 0,\n",
       "  'memoryGB': 28.0,\n",
       "  'maxResourceVolumeMB': 204800},\n",
       " {'name': 'Standard_D13',\n",
       "  'vCPUs': 8,\n",
       "  'gpus': 0,\n",
       "  'memoryGB': 56.0,\n",
       "  'maxResourceVolumeMB': 409600},\n",
       " {'name': 'Standard_D14',\n",
       "  'vCPUs': 16,\n",
       "  'gpus': 0,\n",
       "  'memoryGB': 112.0,\n",
       "  'maxResourceVolumeMB': 819200},\n",
       " {'name': 'Standard_NV6',\n",
       "  'vCPUs': 6,\n",
       "  'gpus': 1,\n",
       "  'memoryGB': 56.0,\n",
       "  'maxResourceVolumeMB': 389120},\n",
       " {'name': 'Standard_NV12',\n",
       "  'vCPUs': 12,\n",
       "  'gpus': 2,\n",
       "  'memoryGB': 112.0,\n",
       "  'maxResourceVolumeMB': 696320},\n",
       " {'name': 'Standard_NV24',\n",
       "  'vCPUs': 24,\n",
       "  'gpus': 4,\n",
       "  'memoryGB': 224.0,\n",
       "  'maxResourceVolumeMB': 1474560},\n",
       " {'name': 'Standard_F2s_v2',\n",
       "  'vCPUs': 2,\n",
       "  'gpus': 0,\n",
       "  'memoryGB': 4.0,\n",
       "  'maxResourceVolumeMB': 16384},\n",
       " {'name': 'Standard_F4s_v2',\n",
       "  'vCPUs': 4,\n",
       "  'gpus': 0,\n",
       "  'memoryGB': 8.0,\n",
       "  'maxResourceVolumeMB': 32768},\n",
       " {'name': 'Standard_F8s_v2',\n",
       "  'vCPUs': 8,\n",
       "  'gpus': 0,\n",
       "  'memoryGB': 16.0,\n",
       "  'maxResourceVolumeMB': 65536},\n",
       " {'name': 'Standard_F16s_v2',\n",
       "  'vCPUs': 16,\n",
       "  'gpus': 0,\n",
       "  'memoryGB': 32.0,\n",
       "  'maxResourceVolumeMB': 131072},\n",
       " {'name': 'Standard_F32s_v2',\n",
       "  'vCPUs': 32,\n",
       "  'gpus': 0,\n",
       "  'memoryGB': 64.0,\n",
       "  'maxResourceVolumeMB': 262144},\n",
       " {'name': 'Standard_F64s_v2',\n",
       "  'vCPUs': 64,\n",
       "  'gpus': 0,\n",
       "  'memoryGB': 128.0,\n",
       "  'maxResourceVolumeMB': 524288},\n",
       " {'name': 'Standard_F72s_v2',\n",
       "  'vCPUs': 72,\n",
       "  'gpus': 0,\n",
       "  'memoryGB': 144.0,\n",
       "  'maxResourceVolumeMB': 589824},\n",
       " {'name': 'Standard_M8-2ms',\n",
       "  'vCPUs': 8,\n",
       "  'gpus': 0,\n",
       "  'memoryGB': 218.75,\n",
       "  'maxResourceVolumeMB': 256000},\n",
       " {'name': 'Standard_M8-4ms',\n",
       "  'vCPUs': 8,\n",
       "  'gpus': 0,\n",
       "  'memoryGB': 218.75,\n",
       "  'maxResourceVolumeMB': 256000},\n",
       " {'name': 'Standard_M8ms',\n",
       "  'vCPUs': 8,\n",
       "  'gpus': 0,\n",
       "  'memoryGB': 218.75,\n",
       "  'maxResourceVolumeMB': 256000},\n",
       " {'name': 'Standard_M16-4ms',\n",
       "  'vCPUs': 16,\n",
       "  'gpus': 0,\n",
       "  'memoryGB': 437.5,\n",
       "  'maxResourceVolumeMB': 512000},\n",
       " {'name': 'Standard_M16-8ms',\n",
       "  'vCPUs': 16,\n",
       "  'gpus': 0,\n",
       "  'memoryGB': 437.5,\n",
       "  'maxResourceVolumeMB': 512000},\n",
       " {'name': 'Standard_M16ms',\n",
       "  'vCPUs': 16,\n",
       "  'gpus': 0,\n",
       "  'memoryGB': 437.5,\n",
       "  'maxResourceVolumeMB': 512000},\n",
       " {'name': 'Standard_M32-8ms',\n",
       "  'vCPUs': 32,\n",
       "  'gpus': 0,\n",
       "  'memoryGB': 875.0,\n",
       "  'maxResourceVolumeMB': 1024000},\n",
       " {'name': 'Standard_M32-16ms',\n",
       "  'vCPUs': 32,\n",
       "  'gpus': 0,\n",
       "  'memoryGB': 875.0,\n",
       "  'maxResourceVolumeMB': 1024000},\n",
       " {'name': 'Standard_M32ls',\n",
       "  'vCPUs': 32,\n",
       "  'gpus': 0,\n",
       "  'memoryGB': 256.0,\n",
       "  'maxResourceVolumeMB': 1024000},\n",
       " {'name': 'Standard_M32ms',\n",
       "  'vCPUs': 32,\n",
       "  'gpus': 0,\n",
       "  'memoryGB': 875.0,\n",
       "  'maxResourceVolumeMB': 1024000},\n",
       " {'name': 'Standard_M32ts',\n",
       "  'vCPUs': 32,\n",
       "  'gpus': 0,\n",
       "  'memoryGB': 192.0,\n",
       "  'maxResourceVolumeMB': 1024000},\n",
       " {'name': 'Standard_M64-16ms',\n",
       "  'vCPUs': 64,\n",
       "  'gpus': 0,\n",
       "  'memoryGB': 1750.0,\n",
       "  'maxResourceVolumeMB': 2048000},\n",
       " {'name': 'Standard_M64-32ms',\n",
       "  'vCPUs': 64,\n",
       "  'gpus': 0,\n",
       "  'memoryGB': 1750.0,\n",
       "  'maxResourceVolumeMB': 2048000},\n",
       " {'name': 'Standard_M64ls',\n",
       "  'vCPUs': 64,\n",
       "  'gpus': 0,\n",
       "  'memoryGB': 512.0,\n",
       "  'maxResourceVolumeMB': 2048000},\n",
       " {'name': 'Standard_M64ms',\n",
       "  'vCPUs': 64,\n",
       "  'gpus': 0,\n",
       "  'memoryGB': 1750.0,\n",
       "  'maxResourceVolumeMB': 2048000},\n",
       " {'name': 'Standard_M64s',\n",
       "  'vCPUs': 64,\n",
       "  'gpus': 0,\n",
       "  'memoryGB': 1000.0,\n",
       "  'maxResourceVolumeMB': 2048000},\n",
       " {'name': 'Standard_M128-32ms',\n",
       "  'vCPUs': 128,\n",
       "  'gpus': 0,\n",
       "  'memoryGB': 3800.0,\n",
       "  'maxResourceVolumeMB': 4096000},\n",
       " {'name': 'Standard_M128-64ms',\n",
       "  'vCPUs': 128,\n",
       "  'gpus': 0,\n",
       "  'memoryGB': 3800.0,\n",
       "  'maxResourceVolumeMB': 4096000},\n",
       " {'name': 'Standard_M128ms',\n",
       "  'vCPUs': 128,\n",
       "  'gpus': 0,\n",
       "  'memoryGB': 3800.0,\n",
       "  'maxResourceVolumeMB': 4096000},\n",
       " {'name': 'Standard_M128s',\n",
       "  'vCPUs': 128,\n",
       "  'gpus': 0,\n",
       "  'memoryGB': 2000.0,\n",
       "  'maxResourceVolumeMB': 4096000},\n",
       " {'name': 'Standard_M64',\n",
       "  'vCPUs': 64,\n",
       "  'gpus': 0,\n",
       "  'memoryGB': 1000.0,\n",
       "  'maxResourceVolumeMB': 8192000},\n",
       " {'name': 'Standard_M64m',\n",
       "  'vCPUs': 64,\n",
       "  'gpus': 0,\n",
       "  'memoryGB': 1750.0,\n",
       "  'maxResourceVolumeMB': 8192000},\n",
       " {'name': 'Standard_M128',\n",
       "  'vCPUs': 128,\n",
       "  'gpus': 0,\n",
       "  'memoryGB': 2000.0,\n",
       "  'maxResourceVolumeMB': 16384000},\n",
       " {'name': 'Standard_M128m',\n",
       "  'vCPUs': 128,\n",
       "  'gpus': 0,\n",
       "  'memoryGB': 3800.0,\n",
       "  'maxResourceVolumeMB': 16384000},\n",
       " {'name': 'Standard_NC6s_v3',\n",
       "  'vCPUs': 6,\n",
       "  'gpus': 1,\n",
       "  'memoryGB': 112.0,\n",
       "  'maxResourceVolumeMB': 344064},\n",
       " {'name': 'Standard_NC12s_v3',\n",
       "  'vCPUs': 12,\n",
       "  'gpus': 2,\n",
       "  'memoryGB': 224.0,\n",
       "  'maxResourceVolumeMB': 688128},\n",
       " {'name': 'Standard_NC24rs_v3',\n",
       "  'vCPUs': 24,\n",
       "  'gpus': 4,\n",
       "  'memoryGB': 448.0,\n",
       "  'maxResourceVolumeMB': 1376256},\n",
       " {'name': 'Standard_NC24s_v3',\n",
       "  'vCPUs': 24,\n",
       "  'gpus': 4,\n",
       "  'memoryGB': 448.0,\n",
       "  'maxResourceVolumeMB': 1376256},\n",
       " {'name': 'Standard_NC6',\n",
       "  'vCPUs': 6,\n",
       "  'gpus': 1,\n",
       "  'memoryGB': 56.0,\n",
       "  'maxResourceVolumeMB': 389120},\n",
       " {'name': 'Standard_NC12',\n",
       "  'vCPUs': 12,\n",
       "  'gpus': 2,\n",
       "  'memoryGB': 112.0,\n",
       "  'maxResourceVolumeMB': 696320},\n",
       " {'name': 'Standard_NC24',\n",
       "  'vCPUs': 24,\n",
       "  'gpus': 4,\n",
       "  'memoryGB': 224.0,\n",
       "  'maxResourceVolumeMB': 1474560},\n",
       " {'name': 'Standard_NC24r',\n",
       "  'vCPUs': 24,\n",
       "  'gpus': 4,\n",
       "  'memoryGB': 224.0,\n",
       "  'maxResourceVolumeMB': 1474560},\n",
       " {'name': 'Standard_NV12s_v3',\n",
       "  'vCPUs': 12,\n",
       "  'gpus': 1,\n",
       "  'memoryGB': 112.0,\n",
       "  'maxResourceVolumeMB': 344064},\n",
       " {'name': 'Standard_NV24s_v3',\n",
       "  'vCPUs': 24,\n",
       "  'gpus': 2,\n",
       "  'memoryGB': 224.0,\n",
       "  'maxResourceVolumeMB': 688128},\n",
       " {'name': 'Standard_NV48s_v3',\n",
       "  'vCPUs': 48,\n",
       "  'gpus': 4,\n",
       "  'memoryGB': 448.0,\n",
       "  'maxResourceVolumeMB': 1376256},\n",
       " {'name': 'Standard_NC6s_v2',\n",
       "  'vCPUs': 6,\n",
       "  'gpus': 1,\n",
       "  'memoryGB': 112.0,\n",
       "  'maxResourceVolumeMB': 344064},\n",
       " {'name': 'Standard_NC12s_v2',\n",
       "  'vCPUs': 12,\n",
       "  'gpus': 2,\n",
       "  'memoryGB': 224.0,\n",
       "  'maxResourceVolumeMB': 688128},\n",
       " {'name': 'Standard_NC24rs_v2',\n",
       "  'vCPUs': 24,\n",
       "  'gpus': 4,\n",
       "  'memoryGB': 448.0,\n",
       "  'maxResourceVolumeMB': 1376256},\n",
       " {'name': 'Standard_NC24s_v2',\n",
       "  'vCPUs': 24,\n",
       "  'gpus': 4,\n",
       "  'memoryGB': 448.0,\n",
       "  'maxResourceVolumeMB': 1376256}]"
      ]
     },
     "execution_count": 4,
     "metadata": {},
     "output_type": "execute_result"
    }
   ],
   "source": [
    "from azureml.core.compute import ComputeTarget, AmlCompute\n",
    "\n",
    "AmlCompute.supported_vmsizes(workspace = ws,location='southcentralus')\n",
    "#AmlCompute.supported_vmsizes(workspace = ws, location='southcentralus')"
   ]
  },
  {
   "cell_type": "markdown",
   "metadata": {},
   "source": [
    "### Create project directory\n",
    "\n",
    "Create a directory that will contain all the necessary code from your local machine that you will need access to on the remote resource. This includes the training script, and any additional files your training script depends on"
   ]
  },
  {
   "cell_type": "code",
   "execution_count": 5,
   "metadata": {},
   "outputs": [
    {
     "data": {
      "text/plain": [
       "'./train-on-amlcompute-demo/train.py'"
      ]
     },
     "execution_count": 5,
     "metadata": {},
     "output_type": "execute_result"
    }
   ],
   "source": [
    "import os\n",
    "import shutil\n",
    "\n",
    "project_folder = './train-on-amlcompute-demo'\n",
    "os.makedirs(project_folder, exist_ok=True)\n",
    "shutil.copy('train.py', project_folder)"
   ]
  },
  {
   "cell_type": "markdown",
   "metadata": {},
   "source": [
    "### Create environment\n",
    "\n",
    "Create Docker based environment with scikit-learn installed."
   ]
  },
  {
   "cell_type": "code",
   "execution_count": 6,
   "metadata": {},
   "outputs": [],
   "source": [
    "from azureml.core import Environment\n",
    "from azureml.core.conda_dependencies import CondaDependencies\n",
    "\n",
    "myenv = Environment(\"myenv\")\n",
    "\n",
    "myenv.docker.enabled = True\n",
    "myenv.python.conda_dependencies = CondaDependencies.create(conda_packages=['scikit-learn'])"
   ]
  },
  {
   "cell_type": "markdown",
   "metadata": {},
   "source": [
    "### Provision as a persistent compute target (Basic)\n",
    "\n",
    "You can provision a persistent AmlCompute resource by simply defining two parameters thanks to smart defaults. By default it autoscales from 0 nodes and provisions dedicated VMs to run your job in a container. This is useful when you want to continously re-use the same target, debug it between jobs or simply share the resource with other users of your workspace.\n",
    "\n",
    "* `vm_size`: VM family of the nodes provisioned by AmlCompute. Simply choose from the supported_vmsizes() above\n",
    "* `max_nodes`: Maximum nodes to autoscale to while running a job on AmlCompute"
   ]
  },
  {
   "cell_type": "markdown",
   "metadata": {
    "tags": [
     "sample-amlcompute-provision"
    ]
   },
   "source": [
    "from azureml.core.compute import ComputeTarget, AmlCompute\n",
    "from azureml.core.compute_target import ComputeTargetException\n",
    "\n",
    "# Choose a name for your CPU cluster\n",
    "gpu_cluster_name = \"test-cluster-sn\"\n",
    "\n",
    "# Verify that cluster does not exist already\n",
    "try:\n",
    "    gpu_cluster = ComputeTarget(workspace=ws, name=gpu_cluster_name)\n",
    "    print('Found existing cluster, use it.')\n",
    "except ComputeTargetException:\n",
    "    compute_config = AmlCompute.provisioning_configuration(vm_size='Standard_NC12',\n",
    "                                                           max_nodes=4)\n",
    "    gpu_cluster = ComputeTarget.create(ws, gpu_cluster_name, compute_config)\n",
    "\n",
    "gpu_cluster.wait_for_completion(show_output=True)"
   ]
  },
  {
   "cell_type": "markdown",
   "metadata": {},
   "source": [
    "### Configure & Run"
   ]
  },
  {
   "cell_type": "markdown",
   "metadata": {},
   "source": [
    "Note: if you need to cancel a run, you can follow [these instructions](https://aka.ms/aml-docs-cancel-run)."
   ]
  },
  {
   "cell_type": "markdown",
   "metadata": {},
   "source": [
    "%%time\n",
    "# Shows output of the run on stdout.\n",
    "run.wait_for_completion(show_output=True)"
   ]
  },
  {
   "cell_type": "markdown",
   "metadata": {},
   "source": [
    "run.get_metrics()"
   ]
  },
  {
   "cell_type": "markdown",
   "metadata": {},
   "source": [
    "### Provision as a persistent compute target (Advanced)\n",
    "\n",
    "You can also specify additional properties or change defaults while provisioning AmlCompute using a more advanced configuration. This is useful when you want a dedicated cluster of 4 nodes (for example you can set the min_nodes and max_nodes to 4), or want the compute to be within an existing VNet in your subscription.\n",
    "\n",
    "In addition to `vm_size` and `max_nodes`, you can specify:\n",
    "* `min_nodes`: Minimum nodes (default 0 nodes) to downscale to while running a job on AmlCompute\n",
    "* `vm_priority`: Choose between 'dedicated' (default) and 'lowpriority' VMs when provisioning AmlCompute. Low Priority VMs use Azure's excess capacity and are thus cheaper but risk your run being pre-empted\n",
    "* `idle_seconds_before_scaledown`: Idle time (default 120 seconds) to wait after run completion before auto-scaling to min_nodes\n",
    "* `vnet_resourcegroup_name`: Resource group of the **existing** VNet within which AmlCompute should be provisioned\n",
    "* `vnet_name`: Name of VNet\n",
    "* `subnet_name`: Name of SubNet within the VNet\n",
    "* `admin_username`: Name of Admin user account which will be created on all the nodes of the cluster\n",
    "* `admin_user_password`: Password that you want to set for the user account above\n",
    "* `admin_user_ssh_key`: SSH Key for the user account above. You can specify either a password or an SSH key or both\n",
    "* `remote_login_port_public_access`: Flag to enable or disable the public SSH port. If you dont specify, AmlCompute will smartly close the port when deploying inside a VNet"
   ]
  },
  {
   "cell_type": "code",
   "execution_count": 7,
   "metadata": {},
   "outputs": [
    {
     "name": "stdout",
     "output_type": "stream",
     "text": [
      "Found existing cluster, use it.\n",
      "Succeeded\n",
      "AmlCompute wait for completion finished\n",
      "\n",
      "Minimum number of nodes requested have been provisioned\n"
     ]
    }
   ],
   "source": [
    "from azureml.core.compute import ComputeTarget, AmlCompute\n",
    "from azureml.core.compute_target import ComputeTargetException\n",
    "\n",
    "# Choose a name for your CPU cluster\n",
    "gpu_cluster_name = \"test-cluster-prv\"\n",
    "\n",
    "# Verify that cluster does not exist already\n",
    "try:\n",
    "    gpu_cluster = ComputeTarget(workspace=ws, name=gpu_cluster_name)\n",
    "    print('Found existing cluster, use it.')\n",
    "except ComputeTargetException:\n",
    "    compute_config = AmlCompute.provisioning_configuration(vm_size='Standard_NC12',\n",
    "                                                           vm_priority='lowpriority',\n",
    "                                                           min_nodes=2,\n",
    "                                                           max_nodes=4,\n",
    "                                                           idle_seconds_before_scaledown='300')\n",
    "#     ,\n",
    "#                                                            vnet_resourcegroup_name='<my-resource-group>',\n",
    "#                                                            vnet_name='<my-vnet-name>',\n",
    "#                                                            subnet_name='<my-subnet-name>',\n",
    "#                                                            admin_username='<my-username>',\n",
    "#                                                            admin_user_password='<my-password>',\n",
    "#                                                            admin_user_ssh_key='<my-sshkey>',\n",
    "#                                                            remote_login_port_public_access='enabled')\n",
    "    gpu_cluster = ComputeTarget.create(ws, gpu_cluster_name, compute_config)\n",
    "\n",
    "gpu_cluster.wait_for_completion(show_output=True)"
   ]
  },
  {
   "cell_type": "code",
   "execution_count": 8,
   "metadata": {},
   "outputs": [
    {
     "data": {
      "text/html": [
       "<table style=\"width:100%\"><tr><th>Experiment</th><th>Id</th><th>Type</th><th>Status</th><th>Details Page</th><th>Docs Page</th></tr><tr><td>train-on-amlcompute-01</td><td>train-on-amlcompute-01_1586353436_af6e574a</td><td>azureml.scriptrun</td><td>Starting</td><td><a href=\"https://ml.azure.com/experiments/train-on-amlcompute-01/runs/train-on-amlcompute-01_1586353436_af6e574a?wsid=/subscriptions/c1d0a0ea-bf6e-4c1c-8b55-f1bdb0208df8/resourcegroups/awe-cirrus-rg/workspaces/cirrustest2\" target=\"_blank\" rel=\"noopener\">Link to Azure Machine Learning studio</a></td><td><a href=\"https://docs.microsoft.com/en-us/python/api/azureml-core/azureml.core.script_run.ScriptRun?view=azure-ml-py\" target=\"_blank\" rel=\"noopener\">Link to Documentation</a></td></tr></table>"
      ],
      "text/plain": [
       "Run(Experiment: train-on-amlcompute-01,\n",
       "Id: train-on-amlcompute-01_1586353436_af6e574a,\n",
       "Type: azureml.scriptrun,\n",
       "Status: Starting)"
      ]
     },
     "execution_count": 8,
     "metadata": {},
     "output_type": "execute_result"
    }
   ],
   "source": [
    "from azureml.core import ScriptRunConfig\n",
    "#from azureml.core.runconfig import DEFAULT_CPU_IMAGE\n",
    "from azureml.core.runconfig import DEFAULT_GPU_IMAGE\n",
    "\n",
    "src = ScriptRunConfig(source_directory=project_folder, script='train.py')\n",
    "\n",
    "# Set compute target to the one created in previous step\n",
    "src.run_config.target = gpu_cluster.name\n",
    "\n",
    "# Set environment\n",
    "src.run_config.environment = myenv\n",
    " \n",
    "run = experiment.submit(config=src)\n",
    "run"
   ]
  },
  {
   "cell_type": "markdown",
   "metadata": {},
   "source": [
    "### Configure & Run"
   ]
  },
  {
   "cell_type": "markdown",
   "metadata": {},
   "source": [
    "# Set compute target to the one created in previous step\n",
    "src.run_config.target = gpu_cluster.name\n",
    " \n",
    "run = experiment.submit(config=src)\n",
    "run"
   ]
  },
  {
   "cell_type": "code",
   "execution_count": null,
   "metadata": {},
   "outputs": [],
   "source": [
    "%%time\n",
    "# Shows output of the run on stdout.\n",
    "run.wait_for_completion(show_output=True)"
   ]
  },
  {
   "cell_type": "code",
   "execution_count": null,
   "metadata": {},
   "outputs": [],
   "source": [
    "run.get_metrics()"
   ]
  },
  {
   "cell_type": "markdown",
   "metadata": {},
   "source": [
    "## Additional operations to perform on AmlCompute\n",
    "\n",
    "You can perform more operations on AmlCompute such as updating the node counts or deleting the compute. "
   ]
  },
  {
   "cell_type": "code",
   "execution_count": 21,
   "metadata": {},
   "outputs": [
    {
     "data": {
      "text/plain": [
       "{'currentNodeCount': 2,\n",
       " 'targetNodeCount': 2,\n",
       " 'nodeStateCounts': {'preparingNodeCount': 0,\n",
       "  'runningNodeCount': 0,\n",
       "  'idleNodeCount': 2,\n",
       "  'unusableNodeCount': 0,\n",
       "  'leavingNodeCount': 0,\n",
       "  'preemptedNodeCount': 0},\n",
       " 'allocationState': 'Steady',\n",
       " 'allocationStateTransitionTime': '2020-04-08T12:17:29.568000+00:00',\n",
       " 'errors': None,\n",
       " 'creationTime': '2020-04-08T12:15:43.138896+00:00',\n",
       " 'modifiedTime': '2020-04-08T12:15:59.104313+00:00',\n",
       " 'provisioningState': 'Succeeded',\n",
       " 'provisioningStateTransitionTime': None,\n",
       " 'scaleSettings': {'minNodeCount': 2,\n",
       "  'maxNodeCount': 4,\n",
       "  'nodeIdleTimeBeforeScaleDown': 'PT300S'},\n",
       " 'vmPriority': 'LowPriority',\n",
       " 'vmSize': 'STANDARD_NC12'}"
      ]
     },
     "execution_count": 21,
     "metadata": {},
     "output_type": "execute_result"
    }
   ],
   "source": [
    "#get_status () gets the latest status of the AmlCompute target\n",
    "gpu_cluster.get_status().serialize()\n"
   ]
  },
  {
   "cell_type": "code",
   "execution_count": 22,
   "metadata": {},
   "outputs": [
    {
     "data": {
      "text/plain": [
       "[{'nodeId': 'tvmps_29c41689dceec9802375cccdbdb93432f9cf27d008aa2b0bb9e63150acbd5459_p',\n",
       "  'port': 50000,\n",
       "  'publicIpAddress': '13.66.85.244',\n",
       "  'privateIpAddress': '10.0.0.4',\n",
       "  'nodeState': 'idle'},\n",
       " {'nodeId': 'tvmps_c0a9db6c2fd2759e73abf907799da2b55441625f045da265b0615c1f7751abc9_p',\n",
       "  'port': 50001,\n",
       "  'publicIpAddress': '13.66.85.244',\n",
       "  'privateIpAddress': '10.0.0.5',\n",
       "  'nodeState': 'idle'}]"
      ]
     },
     "execution_count": 22,
     "metadata": {},
     "output_type": "execute_result"
    }
   ],
   "source": [
    "#list_nodes () gets the list of nodes on the cluster with status, IP and associated run\n",
    "gpu_cluster.list_nodes()\n"
   ]
  },
  {
   "cell_type": "code",
   "execution_count": 23,
   "metadata": {},
   "outputs": [],
   "source": [
    "#Update () takes in the min_nodes, max_nodes and idle_seconds_before_scaledown and updates the AmlCompute target\n",
    "#cpu_cluster.update(min_nodes=1)\n",
    "#cpu_cluster.update(max_nodes=10)\n",
    "gpu_cluster.update(idle_seconds_before_scaledown=100)\n",
    "#cpu_cluster.update(min_nodes=2, max_nodes=4, idle_seconds_before_scaledown=600)"
   ]
  },
  {
   "cell_type": "code",
   "execution_count": null,
   "metadata": {},
   "outputs": [],
   "source": [
    "#Delete () is used to deprovision and delete the AmlCompute target. Useful if you want to re-use the compute name \n",
    "#'cpu-cluster' in this case but use a different VM family for instance.\n",
    "\n",
    "#cpu_cluster.delete()"
   ]
  },
  {
   "cell_type": "markdown",
   "metadata": {},
   "source": [
    "## Success!\n",
    "Great, you are ready to move on to the remaining notebooks."
   ]
  }
 ],
 "metadata": {
  "authors": [
   {
    "name": "nigup"
   }
  ],
  "categories": [
   "how-to-use-azureml",
   "training"
  ],
  "category": "training",
  "compute": [
   "AML Compute"
  ],
  "datasets": [
   "Diabetes"
  ],
  "deployment": [
   "None"
  ],
  "exclude_from_index": false,
  "framework": [
   "None"
  ],
  "friendly_name": "Train on Azure Machine Learning Compute",
  "index_order": 1,
  "kernelspec": {
   "display_name": "Python 3.6 - AzureML",
   "language": "python",
   "name": "python3-azureml"
  },
  "language_info": {
   "codemirror_mode": {
    "name": "ipython",
    "version": 3
   },
   "file_extension": ".py",
   "mimetype": "text/x-python",
   "name": "python",
   "nbconvert_exporter": "python",
   "pygments_lexer": "ipython3",
   "version": "3.6.9"
  },
  "tags": [
   "None"
  ],
  "task": "Submit a run on Azure Machine Learning Compute."
 },
 "nbformat": 4,
 "nbformat_minor": 4
}
